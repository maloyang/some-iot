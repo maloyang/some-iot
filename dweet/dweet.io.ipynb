{
 "cells": [
  {
   "cell_type": "markdown",
   "metadata": {},
   "source": [
    "# Dweet.io\n",
    "\n",
    "http://dweet.io/\n",
    "\n"
   ]
  },
  {
   "cell_type": "markdown",
   "metadata": {},
   "source": [
    "## dweets : Create or read dweets in short term cache\n",
    "\n",
    "- /dweet/for/{thing}\n",
    "    - Create a dweet for a thing\n",
    "\n",
    "### 其它一些有用的資訊\n",
    "- 它提供的線上測試工具：https://dweet.io/play/\n",
    "- "
   ]
  },
  {
   "cell_type": "markdown",
   "metadata": {},
   "source": [
    "## 可以參考這一篇使用dweep的API實作的\n",
    "\n",
    "https://www.jianshu.com/p/7a6c6a1e9cb6\n",
    "\n",
    "- pip install dweepy\n",
    "- 如果我的thing-name是uuuid1234567890，那我就打開以下的網址就可以看即時上傳的資料了\n",
    "    - http://dweet.io/follow/uuuid1234567890\n",
    "- 測試程式如下："
   ]
  },
  {
   "cell_type": "code",
   "execution_count": null,
   "metadata": {},
   "outputs": [],
   "source": [
    "import dweepy\n",
    "import time\n",
    "import random\n",
    "\n",
    "if __name__ == '__main__':\n",
    "    while True:\n",
    "        thing_name = \"YOUR-PROJECT-NAME\"\n",
    "\n",
    "    // 生成两个随机数替代真实数据\n",
    "        temperature = random.uniform(20, 30)\n",
    "        humidity = random.uniform(40, 50)\n",
    "\n",
    "        dweet = {\"temperature\": \"{:5.2f}\".format(temperature),\n",
    "                 \"humidity\": \"{:5.2f}\".format(humidity)}\n",
    "        dweepy.dweet_for(thing_name, dweet)\n",
    "\n",
    "        print(\"temperature \" + dweet[\"temperature\"])\n",
    "        print(\"humidity \" + dweet[\"humidity\"])\n",
    "        time.sleep(10)"
   ]
  },
  {
   "cell_type": "markdown",
   "metadata": {},
   "source": [
    "## Python 實作讀取功能"
   ]
  },
  {
   "cell_type": "code",
   "execution_count": 2,
   "metadata": {},
   "outputs": [
    {
     "data": {
      "text/plain": [
       "<Response [200]>"
      ]
     },
     "execution_count": 2,
     "metadata": {},
     "output_type": "execute_result"
    }
   ],
   "source": [
    "import requests\n",
    "\n",
    "url = 'https://dweet.io/get/latest/dweet/for/uuuid1234567890' #'/get/latest/dweet/for/uuuid1234567890'\n",
    "r = requests.get(url)\n",
    "r"
   ]
  },
  {
   "cell_type": "code",
   "execution_count": 5,
   "metadata": {},
   "outputs": [
    {
     "data": {
      "text/plain": [
       "b'{\"this\":\"succeeded\",\"by\":\"getting\",\"the\":\"dweets\",\"with\":[{\"thing\":\"uuuid1234567890\",\"created\":\"2019-02-14T05:21:43.985Z\",\"content\":{\"CSQ\":60,\"T\":22,\"GPS\":\"22.626425, 120.310864\"}}]}'"
      ]
     },
     "execution_count": 5,
     "metadata": {},
     "output_type": "execute_result"
    }
   ],
   "source": [
    "r.content"
   ]
  },
  {
   "cell_type": "code",
   "execution_count": 9,
   "metadata": {},
   "outputs": [
    {
     "data": {
      "text/plain": [
       "{'this': 'succeeded',\n",
       " 'by': 'getting',\n",
       " 'the': 'dweets',\n",
       " 'with': [{'thing': 'uuuid1234567890',\n",
       "   'created': '2019-02-14T05:21:43.985Z',\n",
       "   'content': {'CSQ': 60, 'T': 22, 'GPS': '22.626425, 120.310864'}}]}"
      ]
     },
     "execution_count": 9,
     "metadata": {},
     "output_type": "execute_result"
    }
   ],
   "source": [
    "import json\n",
    "result = json.loads(r.content)\n",
    "result"
   ]
  },
  {
   "cell_type": "code",
   "execution_count": 10,
   "metadata": {},
   "outputs": [
    {
     "data": {
      "text/plain": [
       "[{'thing': 'uuuid1234567890',\n",
       "  'created': '2019-02-14T05:21:43.985Z',\n",
       "  'content': {'CSQ': 60, 'T': 22, 'GPS': '22.626425, 120.310864'}}]"
      ]
     },
     "execution_count": 10,
     "metadata": {},
     "output_type": "execute_result"
    }
   ],
   "source": [
    "result['with']"
   ]
  },
  {
   "cell_type": "markdown",
   "metadata": {},
   "source": [
    "## 實作push功能\n",
    "\n",
    "參考：https://qiita.com/msrks/items/017fd9709fc7fe6505e9\n"
   ]
  },
  {
   "cell_type": "markdown",
   "metadata": {},
   "source": [
    "- 先看看用瀏覽器怎麼push資料\n",
    "    - https://dweet.io/dweet/for/uuuid1234567890?CSQ=80&T=28\n",
    "    - 這樣就可以上傳CSQ和T二個資訊，回應如下\n",
    "    ```\n",
    "    {\n",
    "    \"this\": \"succeeded\",\n",
    "    \"by\": \"dweeting\",\n",
    "    \"the\": \"dweet\",\n",
    "    \"with\": {\n",
    "        \"thing\": \"uuuid1234567890\",\n",
    "        \"created\": \"2019-02-14T06:33:43.457Z\",\n",
    "        \"content\": {\n",
    "            \"CSQ\": 80,\n",
    "            \"T\": 28\n",
    "        },\n",
    "        \"transaction\": \"a638dbda-8281-4b7c-b94a-c6ca2a06d068\"\n",
    "    }\n",
    "    }\n",
    "    ```\n",
    "    "
   ]
  },
  {
   "cell_type": "code",
   "execution_count": 30,
   "metadata": {},
   "outputs": [
    {
     "data": {
      "text/plain": [
       "<Response [200]>"
      ]
     },
     "execution_count": 30,
     "metadata": {},
     "output_type": "execute_result"
    }
   ],
   "source": [
    "import requests\n",
    "\n",
    "url = 'https://dweet.io/dweet/for/uuuid1234567890'\n",
    "\n",
    "csq = random.randrange(50, 80)\n",
    "t = random.randrange(20, 30)\n",
    "gps = \"22.6,120.3\" #\"22.626425,120.310864\"\n",
    "data = {'CSQ': csq, 'T':t, 'GPS':gps}\n",
    "r = requests.get(url, params=data)\n",
    "r"
   ]
  },
  {
   "cell_type": "code",
   "execution_count": 31,
   "metadata": {},
   "outputs": [
    {
     "data": {
      "text/plain": [
       "b'{\"this\":\"succeeded\",\"by\":\"dweeting\",\"the\":\"dweet\",\"with\":{\"thing\":\"uuuid1234567890\",\"created\":\"2019-02-14T06:49:31.487Z\",\"content\":{\"CSQ\":62,\"T\":22,\"GPS\":\"22.6,120.3\"},\"transaction\":\"018fff4f-470d-4245-98b6-195045f2995d\"}}'"
      ]
     },
     "execution_count": 31,
     "metadata": {},
     "output_type": "execute_result"
    }
   ],
   "source": [
    "r.content"
   ]
  },
  {
   "cell_type": "code",
   "execution_count": 32,
   "metadata": {},
   "outputs": [
    {
     "data": {
      "text/plain": [
       "{'this': 'succeeded',\n",
       " 'by': 'dweeting',\n",
       " 'the': 'dweet',\n",
       " 'with': {'thing': 'uuuid1234567890',\n",
       "  'created': '2019-02-14T06:49:31.487Z',\n",
       "  'content': {'CSQ': 62, 'T': 22, 'GPS': '22.6,120.3'},\n",
       "  'transaction': '018fff4f-470d-4245-98b6-195045f2995d'}}"
      ]
     },
     "execution_count": 32,
     "metadata": {},
     "output_type": "execute_result"
    }
   ],
   "source": [
    "import json\n",
    "result = json.loads(r.content)\n",
    "result"
   ]
  },
  {
   "cell_type": "code",
   "execution_count": 33,
   "metadata": {},
   "outputs": [
    {
     "data": {
      "text/plain": [
       "{'CSQ': 62, 'T': 22, 'GPS': '22.6,120.3'}"
      ]
     },
     "execution_count": 33,
     "metadata": {},
     "output_type": "execute_result"
    }
   ],
   "source": [
    "result['with']['content']"
   ]
  },
  {
   "cell_type": "markdown",
   "metadata": {},
   "source": [
    "## 另外從無到有產生一個新的\n",
    "\n",
    "uuuid2345678901\n"
   ]
  },
  {
   "cell_type": "code",
   "execution_count": 46,
   "metadata": {},
   "outputs": [
    {
     "data": {
      "text/plain": [
       "<Response [200]>"
      ]
     },
     "execution_count": 46,
     "metadata": {},
     "output_type": "execute_result"
    }
   ],
   "source": [
    "import requests\n",
    "\n",
    "url = 'https://dweet.io/dweet/for/uuuid2345678901'\n",
    "\n",
    "t = random.randrange(20, 30)\n",
    "h = random.randrange(50, 80)\n",
    "\n",
    "data = {'H': h, 'T':t}\n",
    "r = requests.get(url, params=data)\n",
    "r"
   ]
  },
  {
   "cell_type": "code",
   "execution_count": 48,
   "metadata": {},
   "outputs": [
    {
     "data": {
      "text/plain": [
       "{'this': 'succeeded',\n",
       " 'by': 'dweeting',\n",
       " 'the': 'dweet',\n",
       " 'with': {'thing': 'uuuid2345678901',\n",
       "  'created': '2019-02-14T06:56:05.310Z',\n",
       "  'content': {'H': 55, 'T': 24},\n",
       "  'transaction': '4d7f98d9-d84f-4601-a54c-6c8490da3906'}}"
      ]
     },
     "execution_count": 48,
     "metadata": {},
     "output_type": "execute_result"
    }
   ],
   "source": [
    "import json\n",
    "result = json.loads(r.content)\n",
    "result"
   ]
  },
  {
   "cell_type": "code",
   "execution_count": 49,
   "metadata": {},
   "outputs": [
    {
     "data": {
      "text/plain": [
       "{'thing': 'uuuid2345678901',\n",
       " 'created': '2019-02-14T06:56:05.310Z',\n",
       " 'content': {'H': 55, 'T': 24},\n",
       " 'transaction': '4d7f98d9-d84f-4601-a54c-6c8490da3906'}"
      ]
     },
     "execution_count": 49,
     "metadata": {},
     "output_type": "execute_result"
    }
   ],
   "source": [
    "result['with']"
   ]
  }
 ],
 "metadata": {
  "kernelspec": {
   "display_name": "Python 3",
   "language": "python",
   "name": "python3"
  },
  "language_info": {
   "codemirror_mode": {
    "name": "ipython",
    "version": 3
   },
   "file_extension": ".py",
   "mimetype": "text/x-python",
   "name": "python",
   "nbconvert_exporter": "python",
   "pygments_lexer": "ipython3",
   "version": "3.6.6"
  }
 },
 "nbformat": 4,
 "nbformat_minor": 2
}
