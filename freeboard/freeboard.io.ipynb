{
 "cells": [
  {
   "cell_type": "markdown",
   "metadata": {},
   "source": [
    "# Freeboard.io"
   ]
  },
  {
   "cell_type": "markdown",
   "metadata": {},
   "source": [
    "## 以下為基本的 text, gauge, map的操作\n",
    "\n",
    "link: https://freeboard.io/board/iFiaGz\n",
    "\n",
    "- Text + chart\n",
    "    - 新增一個Text元件\n",
    "    - 資料來源：datasources[\"Dweet\"][\"CSQ\"]\n",
    "    - 打開\"include sparkline\"就可以畫出線圖\n",
    "\n",
    "- Gauge\n",
    "    - 新增一個Gauge元件 (Type = Gauge)\n",
    "    - 資料來源：datasources[\"Dweet\"][\"CSQ\"]\n",
    "    \n",
    "- map\n",
    "    - 新增一個地圖元件 (Type = google map)\n",
    "    - 因為資料datasources[\"Dweet\"][\"GPS\"]是包含lat, lan的，因此需要拆解\n",
    "    - 在Latitude中填入 datasources[\"Dweet\"][\"GPS\"].split(\",\")[0]\n",
    "    - 在Longitude中填入 datasources[\"Dweet\"][\"GPS\"].split(\",\")[1]\n",
    "    \n",
    "    "
   ]
  }
 ],
 "metadata": {
  "kernelspec": {
   "display_name": "Python 3",
   "language": "python",
   "name": "python3"
  },
  "language_info": {
   "codemirror_mode": {
    "name": "ipython",
    "version": 3
   },
   "file_extension": ".py",
   "mimetype": "text/x-python",
   "name": "python",
   "nbconvert_exporter": "python",
   "pygments_lexer": "ipython3",
   "version": "3.6.6"
  }
 },
 "nbformat": 4,
 "nbformat_minor": 2
}
